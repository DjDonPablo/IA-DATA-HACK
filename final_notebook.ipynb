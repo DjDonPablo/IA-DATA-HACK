{
 "cells": [
  {
   "cell_type": "markdown",
   "metadata": {},
   "source": [
    "\n",
    "# AI vs IA\n",
    "---\n",
    "\n",
    "#### Group 12\n",
    "\n",
    "This notebook contains our work for the **AI vs IA** subject at the **IA Data Hack** hackaton.<br><br>\n",
    "The structure is the following:\n",
    "- Subject understanding\n",
    "- Data analysis and transformation\n",
    "- Models benchmark\n",
    "- Best model optimisation\n",
    "- Conclusion\n",
    "\n",
    "We are using the library ```scikit-learn``` for a part of the benchmark, which runs only on CPU, so it takes a lot of time training different models.<br>\n",
    "There will be the comment ```DO NOT RUN``` on specific part of the benchmark because it would be too long to run, you have to trust us on our result !"
   ]
  },
  {
   "cell_type": "markdown",
   "metadata": {},
   "source": [
    "## Subject understanding\n",
    "---\n",
    "\n",
    "The subject of this hackaton is, as said before, **AI vs IA**. Given some text, we need to define if the sentence was created by a **human** or an **AI**.<br>\n",
    "Therefore, we consider this problem as a ***classification*** problem, especially a ***binary classification*** problem. Binary classification is a common problem in artificial intelligence, which require ***machine learning*** or ***deep learning*** models. We will use both and compare them in our benchmark to get the best one.<br>\n",
    "For binary classification problem, we use the ```binary cross entropy``` loss function, which is the most suitable, and calculated as follows:\n",
    "\n",
    "$$\n",
    "BCE = -y \\cdot \\log(p) - (1 - y) \\cdot \\log(1 - p)\n",
    "$$\n",
    "\n",
    "Where:\n",
    "- *y* is the true label (0 or 1)\n",
    "- *p* is the predicted probability (between 0 and 1)\n"
   ]
  },
  {
   "cell_type": "markdown",
   "metadata": {},
   "source": [
    "## Data analysis and transformation\n",
    "---"
   ]
  },
  {
   "cell_type": "markdown",
   "metadata": {},
   "source": [
    "## Models benchmark\n",
    "---"
   ]
  },
  {
   "cell_type": "markdown",
   "metadata": {},
   "source": [
    "## Best model optimisation\n",
    "---"
   ]
  },
  {
   "cell_type": "markdown",
   "metadata": {},
   "source": [
    "## Conlusion\n",
    "---"
   ]
  }
 ],
 "metadata": {
  "language_info": {
   "name": "python"
  }
 },
 "nbformat": 4,
 "nbformat_minor": 2
}
