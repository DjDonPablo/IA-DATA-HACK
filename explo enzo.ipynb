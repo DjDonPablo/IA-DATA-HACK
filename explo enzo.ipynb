{
 "cells": [
  {
   "cell_type": "markdown",
   "metadata": {},
   "source": [
    "## Tutoriel : interagir avec le système de stockage S3 du SSP Cloud (MinIO)"
   ]
  },
  {
   "cell_type": "code",
   "execution_count": 184,
   "metadata": {},
   "outputs": [],
   "source": [
    "import os\n",
    "import pandas as pd\n",
    "import s3fs\n",
    "import zipfile"
   ]
  },
  {
   "cell_type": "markdown",
   "metadata": {},
   "source": [
    "### Récupérer les données d'un challenge"
   ]
  },
  {
   "cell_type": "markdown",
   "metadata": {},
   "source": [
    "NB : les données peuvent être également téléchargées directement si besoin, pour être utilisées hors du SSP CLoud.\n",
    "Exemple pour le fichier ci-dessus (même format de lien pour les autres challenges) : \n",
    "\n",
    "http://minio.lab.sspcloud.fr/gvimont/diffusion/hackathon-minarm-2024/AIVSAI/HC3.zip"
   ]
  },
  {
   "cell_type": "markdown",
   "metadata": {},
   "source": [
    "### Exporter des données"
   ]
  },
  {
   "cell_type": "code",
   "execution_count": 185,
   "metadata": {},
   "outputs": [],
   "source": [
    "dfall = pd.read_json('data/all.jsonl', lines=True)"
   ]
  },
  {
   "cell_type": "code",
   "execution_count": 186,
   "metadata": {},
   "outputs": [
    {
     "data": {
      "text/plain": [
       "source\n",
       "reddit_eli5    17112\n",
       "finance         3933\n",
       "medicine        1248\n",
       "open_qa         1187\n",
       "wiki_csai        842\n",
       "Name: count, dtype: int64"
      ]
     },
     "execution_count": 186,
     "metadata": {},
     "output_type": "execute_result"
    }
   ],
   "source": [
    "dfall.drop(['index'], axis=1, inplace=True)\n",
    "dfall.value_counts(\"source\")"
   ]
  },
  {
   "cell_type": "code",
   "execution_count": 187,
   "metadata": {},
   "outputs": [
    {
     "data": {
      "text/html": [
       "<div>\n",
       "<style scoped>\n",
       "    .dataframe tbody tr th:only-of-type {\n",
       "        vertical-align: middle;\n",
       "    }\n",
       "\n",
       "    .dataframe tbody tr th {\n",
       "        vertical-align: top;\n",
       "    }\n",
       "\n",
       "    .dataframe thead th {\n",
       "        text-align: right;\n",
       "    }\n",
       "</style>\n",
       "<table border=\"1\" class=\"dataframe\">\n",
       "  <thead>\n",
       "    <tr style=\"text-align: right;\">\n",
       "      <th></th>\n",
       "      <th>question</th>\n",
       "      <th>human_answers</th>\n",
       "      <th>chatgpt_answers</th>\n",
       "      <th>source</th>\n",
       "    </tr>\n",
       "  </thead>\n",
       "  <tbody>\n",
       "    <tr>\n",
       "      <th>0</th>\n",
       "      <td>Why is every book I hear about a \" NY Times # ...</td>\n",
       "      <td>[Basically there are many categories of \" Best...</td>\n",
       "      <td>[There are many different best seller lists th...</td>\n",
       "      <td>reddit_eli5</td>\n",
       "    </tr>\n",
       "    <tr>\n",
       "      <th>1</th>\n",
       "      <td>If salt is so bad for cars , why do we use it ...</td>\n",
       "      <td>[salt is good for not dying in car crashes and...</td>\n",
       "      <td>[Salt is used on roads to help melt ice and sn...</td>\n",
       "      <td>reddit_eli5</td>\n",
       "    </tr>\n",
       "    <tr>\n",
       "      <th>2</th>\n",
       "      <td>Why do we still have SD TV channels when HD lo...</td>\n",
       "      <td>[The way it works is that old TV stations got ...</td>\n",
       "      <td>[There are a few reasons why we still have SD ...</td>\n",
       "      <td>reddit_eli5</td>\n",
       "    </tr>\n",
       "    <tr>\n",
       "      <th>3</th>\n",
       "      <td>Why has nobody assassinated Kim Jong - un He i...</td>\n",
       "      <td>[You ca n't just go around assassinating the l...</td>\n",
       "      <td>[It is generally not acceptable or ethical to ...</td>\n",
       "      <td>reddit_eli5</td>\n",
       "    </tr>\n",
       "    <tr>\n",
       "      <th>4</th>\n",
       "      <td>How was airplane technology able to advance so...</td>\n",
       "      <td>[Wanting to kill the shit out of Germans drive...</td>\n",
       "      <td>[After the Wright Brothers made the first powe...</td>\n",
       "      <td>reddit_eli5</td>\n",
       "    </tr>\n",
       "    <tr>\n",
       "      <th>...</th>\n",
       "      <td>...</td>\n",
       "      <td>...</td>\n",
       "      <td>...</td>\n",
       "      <td>...</td>\n",
       "    </tr>\n",
       "    <tr>\n",
       "      <th>24317</th>\n",
       "      <td>Is rise in pressure from 116/66 to 140/80 norm...</td>\n",
       "      <td>[Hello!Welcome and thank you for asking on HCM...</td>\n",
       "      <td>[It's not uncommon for blood pressure to fluct...</td>\n",
       "      <td>medicine</td>\n",
       "    </tr>\n",
       "    <tr>\n",
       "      <th>24318</th>\n",
       "      <td>What could cause a painless lump in the right ...</td>\n",
       "      <td>[Hi, * As per my surgical experience, the issu...</td>\n",
       "      <td>[There are several possible causes of a painle...</td>\n",
       "      <td>medicine</td>\n",
       "    </tr>\n",
       "    <tr>\n",
       "      <th>24319</th>\n",
       "      <td>Can Acutret be given to a child for treatment ...</td>\n",
       "      <td>[Although it is difficult to comment whether A...</td>\n",
       "      <td>[It is not appropriate for me to recommend a s...</td>\n",
       "      <td>medicine</td>\n",
       "    </tr>\n",
       "    <tr>\n",
       "      <th>24320</th>\n",
       "      <td>Are BP of 119/65 and pulse of 35 causes for co...</td>\n",
       "      <td>[Welcome and thank you for asking on HCM! I ha...</td>\n",
       "      <td>[It is not uncommon for people with rheumatoid...</td>\n",
       "      <td>medicine</td>\n",
       "    </tr>\n",
       "    <tr>\n",
       "      <th>24321</th>\n",
       "      <td>Suggest treatment for back pain after walking ...</td>\n",
       "      <td>[Hi,Having this type of back pain at this age ...</td>\n",
       "      <td>[It is not uncommon to experience back pain, e...</td>\n",
       "      <td>medicine</td>\n",
       "    </tr>\n",
       "  </tbody>\n",
       "</table>\n",
       "<p>24322 rows × 4 columns</p>\n",
       "</div>"
      ],
      "text/plain": [
       "                                                question  \\\n",
       "0      Why is every book I hear about a \" NY Times # ...   \n",
       "1      If salt is so bad for cars , why do we use it ...   \n",
       "2      Why do we still have SD TV channels when HD lo...   \n",
       "3      Why has nobody assassinated Kim Jong - un He i...   \n",
       "4      How was airplane technology able to advance so...   \n",
       "...                                                  ...   \n",
       "24317  Is rise in pressure from 116/66 to 140/80 norm...   \n",
       "24318  What could cause a painless lump in the right ...   \n",
       "24319  Can Acutret be given to a child for treatment ...   \n",
       "24320  Are BP of 119/65 and pulse of 35 causes for co...   \n",
       "24321  Suggest treatment for back pain after walking ...   \n",
       "\n",
       "                                           human_answers  \\\n",
       "0      [Basically there are many categories of \" Best...   \n",
       "1      [salt is good for not dying in car crashes and...   \n",
       "2      [The way it works is that old TV stations got ...   \n",
       "3      [You ca n't just go around assassinating the l...   \n",
       "4      [Wanting to kill the shit out of Germans drive...   \n",
       "...                                                  ...   \n",
       "24317  [Hello!Welcome and thank you for asking on HCM...   \n",
       "24318  [Hi, * As per my surgical experience, the issu...   \n",
       "24319  [Although it is difficult to comment whether A...   \n",
       "24320  [Welcome and thank you for asking on HCM! I ha...   \n",
       "24321  [Hi,Having this type of back pain at this age ...   \n",
       "\n",
       "                                         chatgpt_answers       source  \n",
       "0      [There are many different best seller lists th...  reddit_eli5  \n",
       "1      [Salt is used on roads to help melt ice and sn...  reddit_eli5  \n",
       "2      [There are a few reasons why we still have SD ...  reddit_eli5  \n",
       "3      [It is generally not acceptable or ethical to ...  reddit_eli5  \n",
       "4      [After the Wright Brothers made the first powe...  reddit_eli5  \n",
       "...                                                  ...          ...  \n",
       "24317  [It's not uncommon for blood pressure to fluct...     medicine  \n",
       "24318  [There are several possible causes of a painle...     medicine  \n",
       "24319  [It is not appropriate for me to recommend a s...     medicine  \n",
       "24320  [It is not uncommon for people with rheumatoid...     medicine  \n",
       "24321  [It is not uncommon to experience back pain, e...     medicine  \n",
       "\n",
       "[24322 rows x 4 columns]"
      ]
     },
     "execution_count": 187,
     "metadata": {},
     "output_type": "execute_result"
    }
   ],
   "source": [
    "dfall"
   ]
  },
  {
   "cell_type": "code",
   "execution_count": 188,
   "metadata": {},
   "outputs": [],
   "source": [
    "dfmedecine = dfall[dfall.source==\"medicine\"]"
   ]
  },
  {
   "cell_type": "code",
   "execution_count": 189,
   "metadata": {},
   "outputs": [
    {
     "name": "stderr",
     "output_type": "stream",
     "text": [
      "/tmp/ipykernel_23056/886837594.py:1: SettingWithCopyWarning: \n",
      "A value is trying to be set on a copy of a slice from a DataFrame\n",
      "\n",
      "See the caveats in the documentation: https://pandas.pydata.org/pandas-docs/stable/user_guide/indexing.html#returning-a-view-versus-a-copy\n",
      "  dfmedecine.drop(['source'], axis=1, inplace=True)\n"
     ]
    },
    {
     "data": {
      "text/html": [
       "<div>\n",
       "<style scoped>\n",
       "    .dataframe tbody tr th:only-of-type {\n",
       "        vertical-align: middle;\n",
       "    }\n",
       "\n",
       "    .dataframe tbody tr th {\n",
       "        vertical-align: top;\n",
       "    }\n",
       "\n",
       "    .dataframe thead th {\n",
       "        text-align: right;\n",
       "    }\n",
       "</style>\n",
       "<table border=\"1\" class=\"dataframe\">\n",
       "  <thead>\n",
       "    <tr style=\"text-align: right;\">\n",
       "      <th></th>\n",
       "      <th>question</th>\n",
       "      <th>human_answers</th>\n",
       "      <th>chatgpt_answers</th>\n",
       "    </tr>\n",
       "  </thead>\n",
       "  <tbody>\n",
       "    <tr>\n",
       "      <th>23074</th>\n",
       "      <td>Does Primolut N taken during pregnancy affect ...</td>\n",
       "      <td>[Hi,     Thanks for the query. I understand yo...</td>\n",
       "      <td>[It is not recommended to use Primolut N durin...</td>\n",
       "    </tr>\n",
       "    <tr>\n",
       "      <th>23075</th>\n",
       "      <td>Bloating and pain on right lower abdomen. Shou...</td>\n",
       "      <td>[Hello,Thanks for the query to H.C.M. Forum.Pa...</td>\n",
       "      <td>[If you are experiencing abdominal pain and bl...</td>\n",
       "    </tr>\n",
       "    <tr>\n",
       "      <th>23076</th>\n",
       "      <td>Is chest pain related to intake of clindamycin...</td>\n",
       "      <td>[Hello, The use of Clindamycin can cause stoma...</td>\n",
       "      <td>[It is possible that chest pain could be relat...</td>\n",
       "    </tr>\n",
       "    <tr>\n",
       "      <th>23077</th>\n",
       "      <td>Q. Noticed a yellowish sag in the gums of my 1...</td>\n",
       "      <td>[Hello. Revert back with the photos to a denti...</td>\n",
       "      <td>[It is difficult to accurately diagnose a cond...</td>\n",
       "    </tr>\n",
       "    <tr>\n",
       "      <th>23078</th>\n",
       "      <td>Suggest remedy for low grade fever, hot and co...</td>\n",
       "      <td>[Hi Dear,Welcome to Healthcaremagic Team.Under...</td>\n",
       "      <td>[I'm sorry to hear that you're feeling sick. I...</td>\n",
       "    </tr>\n",
       "  </tbody>\n",
       "</table>\n",
       "</div>"
      ],
      "text/plain": [
       "                                                question  \\\n",
       "23074  Does Primolut N taken during pregnancy affect ...   \n",
       "23075  Bloating and pain on right lower abdomen. Shou...   \n",
       "23076  Is chest pain related to intake of clindamycin...   \n",
       "23077  Q. Noticed a yellowish sag in the gums of my 1...   \n",
       "23078  Suggest remedy for low grade fever, hot and co...   \n",
       "\n",
       "                                           human_answers  \\\n",
       "23074  [Hi,     Thanks for the query. I understand yo...   \n",
       "23075  [Hello,Thanks for the query to H.C.M. Forum.Pa...   \n",
       "23076  [Hello, The use of Clindamycin can cause stoma...   \n",
       "23077  [Hello. Revert back with the photos to a denti...   \n",
       "23078  [Hi Dear,Welcome to Healthcaremagic Team.Under...   \n",
       "\n",
       "                                         chatgpt_answers  \n",
       "23074  [It is not recommended to use Primolut N durin...  \n",
       "23075  [If you are experiencing abdominal pain and bl...  \n",
       "23076  [It is possible that chest pain could be relat...  \n",
       "23077  [It is difficult to accurately diagnose a cond...  \n",
       "23078  [I'm sorry to hear that you're feeling sick. I...  "
      ]
     },
     "execution_count": 189,
     "metadata": {},
     "output_type": "execute_result"
    }
   ],
   "source": [
    "dfmedecine.drop(['source'], axis=1, inplace=True)\n",
    "dfmedecine.head()"
   ]
  },
  {
   "cell_type": "code",
   "execution_count": 190,
   "metadata": {},
   "outputs": [],
   "source": [
    "dffinance = dfall[dfall.source==\"finance\"]"
   ]
  },
  {
   "cell_type": "code",
   "execution_count": 191,
   "metadata": {},
   "outputs": [
    {
     "name": "stderr",
     "output_type": "stream",
     "text": [
      "/tmp/ipykernel_23056/3504174499.py:1: SettingWithCopyWarning: \n",
      "A value is trying to be set on a copy of a slice from a DataFrame\n",
      "\n",
      "See the caveats in the documentation: https://pandas.pydata.org/pandas-docs/stable/user_guide/indexing.html#returning-a-view-versus-a-copy\n",
      "  dffinance.drop(['source'], axis=1, inplace=True)\n"
     ]
    },
    {
     "data": {
      "text/html": [
       "<div>\n",
       "<style scoped>\n",
       "    .dataframe tbody tr th:only-of-type {\n",
       "        vertical-align: middle;\n",
       "    }\n",
       "\n",
       "    .dataframe tbody tr th {\n",
       "        vertical-align: top;\n",
       "    }\n",
       "\n",
       "    .dataframe thead th {\n",
       "        text-align: right;\n",
       "    }\n",
       "</style>\n",
       "<table border=\"1\" class=\"dataframe\">\n",
       "  <thead>\n",
       "    <tr style=\"text-align: right;\">\n",
       "      <th></th>\n",
       "      <th>question</th>\n",
       "      <th>human_answers</th>\n",
       "      <th>chatgpt_answers</th>\n",
       "    </tr>\n",
       "  </thead>\n",
       "  <tbody>\n",
       "    <tr>\n",
       "      <th>19141</th>\n",
       "      <td>Historical P/E ratios of small-cap vs. large-c...</td>\n",
       "      <td>[There is most likely an error in the WSJ's da...</td>\n",
       "      <td>[Historical price-to-earnings (P/E) ratios for...</td>\n",
       "    </tr>\n",
       "    <tr>\n",
       "      <th>19142</th>\n",
       "      <td>Should you co-sign a personal loan for a frien...</td>\n",
       "      <td>[I know this question has a lot of answers alr...</td>\n",
       "      <td>[Co-signing a personal loan for a friend or fa...</td>\n",
       "    </tr>\n",
       "    <tr>\n",
       "      <th>19143</th>\n",
       "      <td>Should I avoid credit card use to improve our ...</td>\n",
       "      <td>[If you pay it off before the cycle closes it ...</td>\n",
       "      <td>[It can be a good idea to avoid using credit c...</td>\n",
       "    </tr>\n",
       "    <tr>\n",
       "      <th>19144</th>\n",
       "      <td>Difference between 'split and redemption' of s...</td>\n",
       "      <td>[It is the first time I encounter redemption p...</td>\n",
       "      <td>[Share split and redemption are two different ...</td>\n",
       "    </tr>\n",
       "    <tr>\n",
       "      <th>19145</th>\n",
       "      <td>Pros &amp; cons of investing in gold vs. platinum?</td>\n",
       "      <td>[Why Investors Buy Platinum is an old (1995) a...</td>\n",
       "      <td>[Gold and platinum are both precious metals th...</td>\n",
       "    </tr>\n",
       "  </tbody>\n",
       "</table>\n",
       "</div>"
      ],
      "text/plain": [
       "                                                question  \\\n",
       "19141  Historical P/E ratios of small-cap vs. large-c...   \n",
       "19142  Should you co-sign a personal loan for a frien...   \n",
       "19143  Should I avoid credit card use to improve our ...   \n",
       "19144  Difference between 'split and redemption' of s...   \n",
       "19145     Pros & cons of investing in gold vs. platinum?   \n",
       "\n",
       "                                           human_answers  \\\n",
       "19141  [There is most likely an error in the WSJ's da...   \n",
       "19142  [I know this question has a lot of answers alr...   \n",
       "19143  [If you pay it off before the cycle closes it ...   \n",
       "19144  [It is the first time I encounter redemption p...   \n",
       "19145  [Why Investors Buy Platinum is an old (1995) a...   \n",
       "\n",
       "                                         chatgpt_answers  \n",
       "19141  [Historical price-to-earnings (P/E) ratios for...  \n",
       "19142  [Co-signing a personal loan for a friend or fa...  \n",
       "19143  [It can be a good idea to avoid using credit c...  \n",
       "19144  [Share split and redemption are two different ...  \n",
       "19145  [Gold and platinum are both precious metals th...  "
      ]
     },
     "execution_count": 191,
     "metadata": {},
     "output_type": "execute_result"
    }
   ],
   "source": [
    "dffinance.drop(['source'], axis=1, inplace=True)\n",
    "dffinance.head()"
   ]
  },
  {
   "cell_type": "code",
   "execution_count": 192,
   "metadata": {},
   "outputs": [],
   "source": [
    "dfopen_qa = dfall[dfall.source==\"open_qa\"]"
   ]
  },
  {
   "cell_type": "code",
   "execution_count": 193,
   "metadata": {},
   "outputs": [
    {
     "name": "stderr",
     "output_type": "stream",
     "text": [
      "/tmp/ipykernel_23056/3018551293.py:1: SettingWithCopyWarning: \n",
      "A value is trying to be set on a copy of a slice from a DataFrame\n",
      "\n",
      "See the caveats in the documentation: https://pandas.pydata.org/pandas-docs/stable/user_guide/indexing.html#returning-a-view-versus-a-copy\n",
      "  dfopen_qa.drop(['source'], axis=1, inplace=True)\n"
     ]
    },
    {
     "data": {
      "text/html": [
       "<div>\n",
       "<style scoped>\n",
       "    .dataframe tbody tr th:only-of-type {\n",
       "        vertical-align: middle;\n",
       "    }\n",
       "\n",
       "    .dataframe tbody tr th {\n",
       "        vertical-align: top;\n",
       "    }\n",
       "\n",
       "    .dataframe thead th {\n",
       "        text-align: right;\n",
       "    }\n",
       "</style>\n",
       "<table border=\"1\" class=\"dataframe\">\n",
       "  <thead>\n",
       "    <tr style=\"text-align: right;\">\n",
       "      <th></th>\n",
       "      <th>question</th>\n",
       "      <th>human_answers</th>\n",
       "      <th>chatgpt_answers</th>\n",
       "    </tr>\n",
       "  </thead>\n",
       "  <tbody>\n",
       "    <tr>\n",
       "      <th>17112</th>\n",
       "      <td>what composer used sound mass</td>\n",
       "      <td>[Composers and works include Barbara Kolb , Pa...</td>\n",
       "      <td>[Sound mass is a term used to describe a type ...</td>\n",
       "    </tr>\n",
       "    <tr>\n",
       "      <th>17113</th>\n",
       "      <td>where did the persian war take place</td>\n",
       "      <td>[The Greco-Persian Wars (also often called the...</td>\n",
       "      <td>[The Persian Wars were a series of conflicts f...</td>\n",
       "    </tr>\n",
       "    <tr>\n",
       "      <th>17114</th>\n",
       "      <td>what are add ons</td>\n",
       "      <td>[Plug-in (computing) , a piece of software whi...</td>\n",
       "      <td>[Add-ons, also known as extensions or plug-ins...</td>\n",
       "    </tr>\n",
       "    <tr>\n",
       "      <th>17115</th>\n",
       "      <td>how does a dredge work?</td>\n",
       "      <td>[Dredging is an excavation activity or operati...</td>\n",
       "      <td>[A dredge is a piece of equipment that is used...</td>\n",
       "    </tr>\n",
       "    <tr>\n",
       "      <th>17116</th>\n",
       "      <td>what classes are considered humanities</td>\n",
       "      <td>[The humanities are academic disciplines that ...</td>\n",
       "      <td>[Humanities are academic disciplines that stud...</td>\n",
       "    </tr>\n",
       "  </tbody>\n",
       "</table>\n",
       "</div>"
      ],
      "text/plain": [
       "                                     question  \\\n",
       "17112           what composer used sound mass   \n",
       "17113    where did the persian war take place   \n",
       "17114                        what are add ons   \n",
       "17115                 how does a dredge work?   \n",
       "17116  what classes are considered humanities   \n",
       "\n",
       "                                           human_answers  \\\n",
       "17112  [Composers and works include Barbara Kolb , Pa...   \n",
       "17113  [The Greco-Persian Wars (also often called the...   \n",
       "17114  [Plug-in (computing) , a piece of software whi...   \n",
       "17115  [Dredging is an excavation activity or operati...   \n",
       "17116  [The humanities are academic disciplines that ...   \n",
       "\n",
       "                                         chatgpt_answers  \n",
       "17112  [Sound mass is a term used to describe a type ...  \n",
       "17113  [The Persian Wars were a series of conflicts f...  \n",
       "17114  [Add-ons, also known as extensions or plug-ins...  \n",
       "17115  [A dredge is a piece of equipment that is used...  \n",
       "17116  [Humanities are academic disciplines that stud...  "
      ]
     },
     "execution_count": 193,
     "metadata": {},
     "output_type": "execute_result"
    }
   ],
   "source": [
    "dfopen_qa.drop(['source'], axis=1, inplace=True)\n",
    "dfopen_qa.head()"
   ]
  },
  {
   "cell_type": "code",
   "execution_count": 194,
   "metadata": {},
   "outputs": [],
   "source": [
    "dfwiki_csai = dfall[dfall.source==\"wiki_csai\"]"
   ]
  },
  {
   "cell_type": "code",
   "execution_count": 195,
   "metadata": {},
   "outputs": [
    {
     "name": "stderr",
     "output_type": "stream",
     "text": [
      "/tmp/ipykernel_23056/3293275135.py:1: SettingWithCopyWarning: \n",
      "A value is trying to be set on a copy of a slice from a DataFrame\n",
      "\n",
      "See the caveats in the documentation: https://pandas.pydata.org/pandas-docs/stable/user_guide/indexing.html#returning-a-view-versus-a-copy\n",
      "  dfwiki_csai.drop(['source'], axis=1, inplace=True)\n"
     ]
    },
    {
     "data": {
      "text/html": [
       "<div>\n",
       "<style scoped>\n",
       "    .dataframe tbody tr th:only-of-type {\n",
       "        vertical-align: middle;\n",
       "    }\n",
       "\n",
       "    .dataframe tbody tr th {\n",
       "        vertical-align: top;\n",
       "    }\n",
       "\n",
       "    .dataframe thead th {\n",
       "        text-align: right;\n",
       "    }\n",
       "</style>\n",
       "<table border=\"1\" class=\"dataframe\">\n",
       "  <thead>\n",
       "    <tr style=\"text-align: right;\">\n",
       "      <th></th>\n",
       "      <th>question</th>\n",
       "      <th>human_answers</th>\n",
       "      <th>chatgpt_answers</th>\n",
       "    </tr>\n",
       "  </thead>\n",
       "  <tbody>\n",
       "    <tr>\n",
       "      <th>18299</th>\n",
       "      <td>Please explain what is \"Animal cognition\"</td>\n",
       "      <td>[Animal cognition encompasses the mental capac...</td>\n",
       "      <td>[Animal cognition refers to the mental capacit...</td>\n",
       "    </tr>\n",
       "    <tr>\n",
       "      <th>18300</th>\n",
       "      <td>Please explain what is \"Human intelligence\"</td>\n",
       "      <td>[Human intelligence is the intellectual capabi...</td>\n",
       "      <td>[Human intelligence is the mental ability to t...</td>\n",
       "    </tr>\n",
       "    <tr>\n",
       "      <th>18301</th>\n",
       "      <td>Please explain what is \"Oxford English Diction...</td>\n",
       "      <td>[The Oxford English Dictionary (OED) is the fi...</td>\n",
       "      <td>[The Oxford English Dictionary (OED) is a comp...</td>\n",
       "    </tr>\n",
       "    <tr>\n",
       "      <th>18302</th>\n",
       "      <td>Please explain what is \"Oxford University Press\"</td>\n",
       "      <td>[Oxford University Press (OUP) is the universi...</td>\n",
       "      <td>[Oxford University Press (OUP) is a department...</td>\n",
       "    </tr>\n",
       "    <tr>\n",
       "      <th>18303</th>\n",
       "      <td>Please explain what is \"AI applications\"</td>\n",
       "      <td>[Artificial intelligence (AI) has been used in...</td>\n",
       "      <td>[AI applications are computer systems that are...</td>\n",
       "    </tr>\n",
       "  </tbody>\n",
       "</table>\n",
       "</div>"
      ],
      "text/plain": [
       "                                                question  \\\n",
       "18299          Please explain what is \"Animal cognition\"   \n",
       "18300        Please explain what is \"Human intelligence\"   \n",
       "18301  Please explain what is \"Oxford English Diction...   \n",
       "18302   Please explain what is \"Oxford University Press\"   \n",
       "18303           Please explain what is \"AI applications\"   \n",
       "\n",
       "                                           human_answers  \\\n",
       "18299  [Animal cognition encompasses the mental capac...   \n",
       "18300  [Human intelligence is the intellectual capabi...   \n",
       "18301  [The Oxford English Dictionary (OED) is the fi...   \n",
       "18302  [Oxford University Press (OUP) is the universi...   \n",
       "18303  [Artificial intelligence (AI) has been used in...   \n",
       "\n",
       "                                         chatgpt_answers  \n",
       "18299  [Animal cognition refers to the mental capacit...  \n",
       "18300  [Human intelligence is the mental ability to t...  \n",
       "18301  [The Oxford English Dictionary (OED) is a comp...  \n",
       "18302  [Oxford University Press (OUP) is a department...  \n",
       "18303  [AI applications are computer systems that are...  "
      ]
     },
     "execution_count": 195,
     "metadata": {},
     "output_type": "execute_result"
    }
   ],
   "source": [
    "dfwiki_csai.drop(['source'], axis=1, inplace=True)\n",
    "dfwiki_csai.head()"
   ]
  },
  {
   "cell_type": "code",
   "execution_count": 196,
   "metadata": {},
   "outputs": [],
   "source": [
    "dfreddit_eli5=dfall[dfall.source==\"reddit_eli5\"]\n"
   ]
  },
  {
   "cell_type": "code",
   "execution_count": 197,
   "metadata": {},
   "outputs": [
    {
     "name": "stderr",
     "output_type": "stream",
     "text": [
      "/tmp/ipykernel_23056/818022564.py:1: SettingWithCopyWarning: \n",
      "A value is trying to be set on a copy of a slice from a DataFrame\n",
      "\n",
      "See the caveats in the documentation: https://pandas.pydata.org/pandas-docs/stable/user_guide/indexing.html#returning-a-view-versus-a-copy\n",
      "  dfreddit_eli5.drop(['source'], axis=1, inplace=True)\n"
     ]
    },
    {
     "data": {
      "text/html": [
       "<div>\n",
       "<style scoped>\n",
       "    .dataframe tbody tr th:only-of-type {\n",
       "        vertical-align: middle;\n",
       "    }\n",
       "\n",
       "    .dataframe tbody tr th {\n",
       "        vertical-align: top;\n",
       "    }\n",
       "\n",
       "    .dataframe thead th {\n",
       "        text-align: right;\n",
       "    }\n",
       "</style>\n",
       "<table border=\"1\" class=\"dataframe\">\n",
       "  <thead>\n",
       "    <tr style=\"text-align: right;\">\n",
       "      <th></th>\n",
       "      <th>question</th>\n",
       "      <th>human_answers</th>\n",
       "      <th>chatgpt_answers</th>\n",
       "    </tr>\n",
       "  </thead>\n",
       "  <tbody>\n",
       "    <tr>\n",
       "      <th>0</th>\n",
       "      <td>Why is every book I hear about a \" NY Times # ...</td>\n",
       "      <td>[Basically there are many categories of \" Best...</td>\n",
       "      <td>[There are many different best seller lists th...</td>\n",
       "    </tr>\n",
       "    <tr>\n",
       "      <th>1</th>\n",
       "      <td>If salt is so bad for cars , why do we use it ...</td>\n",
       "      <td>[salt is good for not dying in car crashes and...</td>\n",
       "      <td>[Salt is used on roads to help melt ice and sn...</td>\n",
       "    </tr>\n",
       "    <tr>\n",
       "      <th>2</th>\n",
       "      <td>Why do we still have SD TV channels when HD lo...</td>\n",
       "      <td>[The way it works is that old TV stations got ...</td>\n",
       "      <td>[There are a few reasons why we still have SD ...</td>\n",
       "    </tr>\n",
       "    <tr>\n",
       "      <th>3</th>\n",
       "      <td>Why has nobody assassinated Kim Jong - un He i...</td>\n",
       "      <td>[You ca n't just go around assassinating the l...</td>\n",
       "      <td>[It is generally not acceptable or ethical to ...</td>\n",
       "    </tr>\n",
       "    <tr>\n",
       "      <th>4</th>\n",
       "      <td>How was airplane technology able to advance so...</td>\n",
       "      <td>[Wanting to kill the shit out of Germans drive...</td>\n",
       "      <td>[After the Wright Brothers made the first powe...</td>\n",
       "    </tr>\n",
       "  </tbody>\n",
       "</table>\n",
       "</div>"
      ],
      "text/plain": [
       "                                            question  \\\n",
       "0  Why is every book I hear about a \" NY Times # ...   \n",
       "1  If salt is so bad for cars , why do we use it ...   \n",
       "2  Why do we still have SD TV channels when HD lo...   \n",
       "3  Why has nobody assassinated Kim Jong - un He i...   \n",
       "4  How was airplane technology able to advance so...   \n",
       "\n",
       "                                       human_answers  \\\n",
       "0  [Basically there are many categories of \" Best...   \n",
       "1  [salt is good for not dying in car crashes and...   \n",
       "2  [The way it works is that old TV stations got ...   \n",
       "3  [You ca n't just go around assassinating the l...   \n",
       "4  [Wanting to kill the shit out of Germans drive...   \n",
       "\n",
       "                                     chatgpt_answers  \n",
       "0  [There are many different best seller lists th...  \n",
       "1  [Salt is used on roads to help melt ice and sn...  \n",
       "2  [There are a few reasons why we still have SD ...  \n",
       "3  [It is generally not acceptable or ethical to ...  \n",
       "4  [After the Wright Brothers made the first powe...  "
      ]
     },
     "execution_count": 197,
     "metadata": {},
     "output_type": "execute_result"
    }
   ],
   "source": [
    "dfreddit_eli5.drop(['source'], axis=1, inplace=True)\n",
    "dfreddit_eli5.head()"
   ]
  },
  {
   "cell_type": "code",
   "execution_count": 198,
   "metadata": {},
   "outputs": [
    {
     "data": {
      "text/plain": [
       "<Axes: title={'center': 'Proportion source'}, xlabel='source'>"
      ]
     },
     "execution_count": 198,
     "metadata": {},
     "output_type": "execute_result"
    },
    {
     "data": {
      "image/png": "[encoded data removed]",
      "text/plain": [
       "<Figure size 640x480 with 1 Axes>"
      ]
     },
     "metadata": {},
     "output_type": "display_data"
    }
   ],
   "source": [
    "dfall.value_counts('source', normalize=True).plot(kind=\"bar\", title= \"Proportion source\")"
   ]
  },
  {
   "cell_type": "code",
   "execution_count": 239,
   "metadata": {},
   "outputs": [],
   "source": [
    "lenanshum=[]\n",
    "for ind, row in dfall.iterrows() : \n",
    "    long=[]\n",
    "    for i in range(len(row.human_answers)) :\n",
    "        long.append(len(row.human_answers[i]))\n",
    "    lenanshum.append(long)\n",
    "dfall[\"lenanshum\"]=lenanshum\n",
    "\n",
    "lenansgpt=[]\n",
    "for ind, row in dfall.iterrows() : \n",
    "    long=[]\n",
    "    for i in range(len(row.chatgpt_answers)) :\n",
    "        long.append(len(row.chatgpt_answers[i]))\n",
    "    lenansgpt.append(long)\n",
    "dfall[\"lenansgpt\"]=lenansgpt\n",
    "    "
   ]
  },
  {
   "cell_type": "code",
   "execution_count": 247,
   "metadata": {},
   "outputs": [],
   "source": [
    "lstlenrephum=[]\n",
    "for ind, row in dfall.iterrows():\n",
    "    for i in range (len(row.lenanshum)):\n",
    "        lstlenrephum.append(row.lenanshum[i])"
   ]
  },
  {
   "cell_type": "code",
   "execution_count": 280,
   "metadata": {},
   "outputs": [
    {
     "data": {
      "text/plain": [
       "<Axes: title={'center': 'Longueur réponse humain'}>"
      ]
     },
     "execution_count": 280,
     "metadata": {},
     "output_type": "execute_result"
    },
    {
     "data": {
      "image/png": "[encoded data removed]",
      "text/plain": [
       "<Figure size 640x480 with 1 Axes>"
      ]
     },
     "metadata": {},
     "output_type": "display_data"
    }
   ],
   "source": [
    "pd.Series(lstlenrephum).value_counts().sort_index().plot(kind=\"bar\", title= \"Longueur réponse humain\")"
   ]
  },
  {
   "cell_type": "code",
   "execution_count": 260,
   "metadata": {},
   "outputs": [],
   "source": [
    "lstlenrepgpt=[]\n",
    "for ind, row in dfall.iterrows():\n",
    "    for i in range (len(row.lenansgpt)):\n",
    "        lstlenrepgpt.append(row.lenansgpt[i])"
   ]
  },
  {
   "cell_type": "code",
   "execution_count": 274,
   "metadata": {},
   "outputs": [
    {
     "data": {
      "text/plain": [
       "<Axes: title={'center': 'Longueur réponse gpt'}>"
      ]
     },
     "execution_count": 274,
     "metadata": {},
     "output_type": "execute_result"
    },
    {
     "data": {
      "image/png": "[encoded data removed]",
      "text/plain": [
       "<Figure size 640x480 with 1 Axes>"
      ]
     },
     "metadata": {},
     "output_type": "display_data"
    }
   ],
   "source": [
    "pd.Series(lstlenrepgpt).value_counts().sort_index().plot(kind=\"bar\", title= \"Longueur réponse gpt\")\n"
   ]
  }
 ],
 "metadata": {
  "kernelspec": {
   "display_name": "base",
   "language": "python",
   "name": "python3"
  },
  "language_info": {
   "codemirror_mode": {
    "name": "ipython",
    "version": 3
   },
   "file_extension": ".py",
   "mimetype": "text/x-python",
   "name": "python",
   "nbconvert_exporter": "python",
   "pygments_lexer": "ipython3",
   "version": "3.11.6"
  }
 },
 "nbformat": 4,
 "nbformat_minor": 2
}
